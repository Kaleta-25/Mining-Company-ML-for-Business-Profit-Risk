{
 "cells": [
  {
   "cell_type": "code",
   "execution_count": 23,
   "metadata": {},
   "outputs": [],
   "source": [
    "import pandas as pd\n",
    "import numpy as np\n",
    "from sklearn.model_selection import train_test_split\n",
    "from sklearn.linear_model import LinearRegression\n",
    "from sklearn.metrics import mean_squared_error\n",
    "from sklearn.metrics import r2_score\n",
    "from scipy import stats as st"
   ]
  },
  {
   "cell_type": "code",
   "execution_count": 24,
   "metadata": {},
   "outputs": [],
   "source": [
    "def file_path(x):\n",
    "    y = pd.read_csv(x)\n",
    "    return y\n",
    "\n",
    "region_0 = file_path(r\"C:/Users/kevin/datasets/geo_data_0.csv\")\n",
    "region_1 = file_path(r\"C:/Users/kevin/datasets/geo_data_1.csv\")\n",
    "region_2 = file_path(r\"C:/Users/kevin/datasets/geo_data_2.csv\")"
   ]
  },
  {
   "cell_type": "code",
   "execution_count": 25,
   "metadata": {},
   "outputs": [
    {
     "name": "stdout",
     "output_type": "stream",
     "text": [
      "<class 'pandas.core.frame.DataFrame'>\n",
      "RangeIndex: 100000 entries, 0 to 99999\n",
      "Data columns (total 5 columns):\n",
      " #   Column   Non-Null Count   Dtype  \n",
      "---  ------   --------------   -----  \n",
      " 0   id       100000 non-null  object \n",
      " 1   f0       100000 non-null  float64\n",
      " 2   f1       100000 non-null  float64\n",
      " 3   f2       100000 non-null  float64\n",
      " 4   product  100000 non-null  float64\n",
      "dtypes: float64(4), object(1)\n",
      "memory usage: 3.8+ MB\n",
      "None\n",
      "<class 'pandas.core.frame.DataFrame'>\n",
      "RangeIndex: 100000 entries, 0 to 99999\n",
      "Data columns (total 5 columns):\n",
      " #   Column   Non-Null Count   Dtype  \n",
      "---  ------   --------------   -----  \n",
      " 0   id       100000 non-null  object \n",
      " 1   f0       100000 non-null  float64\n",
      " 2   f1       100000 non-null  float64\n",
      " 3   f2       100000 non-null  float64\n",
      " 4   product  100000 non-null  float64\n",
      "dtypes: float64(4), object(1)\n",
      "memory usage: 3.8+ MB\n",
      "None\n",
      "<class 'pandas.core.frame.DataFrame'>\n",
      "RangeIndex: 100000 entries, 0 to 99999\n",
      "Data columns (total 5 columns):\n",
      " #   Column   Non-Null Count   Dtype  \n",
      "---  ------   --------------   -----  \n",
      " 0   id       100000 non-null  object \n",
      " 1   f0       100000 non-null  float64\n",
      " 2   f1       100000 non-null  float64\n",
      " 3   f2       100000 non-null  float64\n",
      " 4   product  100000 non-null  float64\n",
      "dtypes: float64(4), object(1)\n",
      "memory usage: 3.8+ MB\n",
      "None\n",
      "          id        f0        f1        f2     product\n",
      "0      txEyH  0.705745 -0.497823  1.221170  105.280062\n",
      "1      2acmU  1.334711 -0.340164  4.365080   73.037750\n",
      "2      409Wp  1.022732  0.151990  1.419926   85.265647\n",
      "3      iJLyR -0.032172  0.139033  2.978566  168.620776\n",
      "4      Xdl7t  1.988431  0.155413  4.751769  154.036647\n",
      "...      ...       ...       ...       ...         ...\n",
      "99995  DLsed  0.971957  0.370953  6.075346  110.744026\n",
      "99996  QKivN  1.392429 -0.382606  1.273912  122.346843\n",
      "99997  3rnvd  1.029585  0.018787 -1.348308   64.375443\n",
      "99998  7kl59  0.998163 -0.528582  1.583869   74.040764\n",
      "99999  1CWhH  1.764754 -0.266417  5.722849  149.633246\n",
      "\n",
      "[100000 rows x 5 columns]\n",
      "          id         f0         f1        f2     product\n",
      "0      kBEdx -15.001348  -8.276000 -0.005876    3.179103\n",
      "1      62mP7  14.272088  -3.475083  0.999183   26.953261\n",
      "2      vyE1P   6.263187  -5.948386  5.001160  134.766305\n",
      "3      KcrkZ -13.081196 -11.506057  4.999415  137.945408\n",
      "4      AHL4O  12.702195  -8.147433  5.004363  134.766305\n",
      "...      ...        ...        ...       ...         ...\n",
      "99995  QywKC   9.535637  -6.878139  1.998296   53.906522\n",
      "99996  ptvty -10.160631 -12.558096  5.005581  137.945408\n",
      "99997  09gWa  -7.378891  -3.084104  4.998651  137.945408\n",
      "99998  rqwUm   0.665714  -6.152593  1.000146   30.132364\n",
      "99999  relB0  -3.426139  -7.794274 -0.003299    3.179103\n",
      "\n",
      "[100000 rows x 5 columns]\n",
      "          id        f0        f1        f2     product\n",
      "0      fwXo0 -1.146987  0.963328 -0.828965   27.758673\n",
      "1      WJtFt  0.262778  0.269839 -2.530187   56.069697\n",
      "2      ovLUW  0.194587  0.289035 -5.586433   62.871910\n",
      "3      q6cA6  2.236060 -0.553760  0.930038  114.572842\n",
      "4      WPMUX -0.515993  1.716266  5.899011  149.600746\n",
      "...      ...       ...       ...       ...         ...\n",
      "99995  4GxBu -1.777037  1.125220  6.263374  172.327046\n",
      "99996  YKFjq -1.261523 -0.894828  2.524545  138.748846\n",
      "99997  tKPY3 -1.199934 -2.957637  5.219411  157.080080\n",
      "99998  nmxp2 -2.419896  2.417221 -5.548444   51.795253\n",
      "99999  V9kWn -2.551421 -2.025625  6.090891  102.775767\n",
      "\n",
      "[100000 rows x 5 columns]\n",
      "(100000, 5)\n",
      "(100000, 5)\n",
      "(100000, 5)\n"
     ]
    }
   ],
   "source": [
    "print(region_0.info())\n",
    "print(region_1.info())\n",
    "print(region_2.info())\n",
    "print(region_0)\n",
    "print(region_1)\n",
    "print(region_2)\n",
    "print(region_0.shape)\n",
    "print(region_1.shape)\n",
    "print(region_2.shape)"
   ]
  },
  {
   "cell_type": "markdown",
   "metadata": {},
   "source": [
    "We can imediately assume from generating the tables information, and table view there is no missing values in either dataframe.\n",
    "\n",
    "The data in the dataframes are also already scaled out. We do not need to do any standard scaling to make sure the data is similar to one another (mean of 0 and variance of 1)"
   ]
  },
  {
   "cell_type": "code",
   "execution_count": 26,
   "metadata": {},
   "outputs": [
    {
     "name": "stdout",
     "output_type": "stream",
     "text": [
      "0\n",
      "0\n",
      "0\n"
     ]
    }
   ],
   "source": [
    "print(region_0.duplicated().sum())\n",
    "print(region_1.duplicated().sum())\n",
    "print(region_2.duplicated().sum())"
   ]
  },
  {
   "cell_type": "markdown",
   "metadata": {},
   "source": [
    "There is no duplicated values in our dataets"
   ]
  },
  {
   "cell_type": "markdown",
   "metadata": {},
   "source": [
    "# Train and Test Model for Each Region"
   ]
  },
  {
   "cell_type": "code",
   "execution_count": 27,
   "metadata": {},
   "outputs": [],
   "source": [
    "def train_linear_regression(data):\n",
    "    features = data.drop(['id', 'product'], axis=1)\n",
    "    target = data['product']\n",
    "    features_train, features_valid, target_train, target_valid = train_test_split(features, target, test_size=0.25, random_state=12345)\n",
    "    model = LinearRegression()\n",
    "    model.fit(features_train, target_train)\n",
    "    predicted_valid = model.predict(features_valid)\n",
    "    mse = mean_squared_error(target_valid, predicted_valid)\n",
    "    rmse = np.sqrt(mse)\n",
    "    r2 = r2_score(target_valid, predicted_valid)\n",
    "    predictions = pd.Series(predicted_valid, index=target_valid.index)\n",
    "    answers = target_valid.reset_index(drop=True).mean()\n",
    "    return rmse, r2, answers, predicted_valid, target_valid\n",
    "\n",
    "rmse_0, r2_0, answers_0, predicted_valid_0, target_valid_0 = train_linear_regression(region_0)\n",
    "rmse_1, r2_1, answers_1, predicted_valid_1, target_valid_1 = train_linear_regression(region_1)\n",
    "rmse_2, r2_2, answers_2, predicted_valid_2, target_valid_2 = train_linear_regression(region_2)\n"
   ]
  },
  {
   "cell_type": "code",
   "execution_count": 28,
   "metadata": {},
   "outputs": [
    {
     "name": "stdout",
     "output_type": "stream",
     "text": [
      "Region_0\n",
      "RMSE: 37.5794217150813\n",
      "Average volume of predicted reserves: 92.07859674082941\n",
      "R2: 0.27994321524487786\n"
     ]
    }
   ],
   "source": [
    "print('Region_0')\n",
    "print(\"RMSE:\", rmse_0)\n",
    "print(\"Average volume of predicted reserves:\", answers_0)\n",
    "print(\"R2:\", r2_0)"
   ]
  },
  {
   "cell_type": "code",
   "execution_count": 29,
   "metadata": {},
   "outputs": [
    {
     "name": "stdout",
     "output_type": "stream",
     "text": [
      "Region_1\n",
      "RMSE: 0.8930992867756166\n",
      "Average volume of predicted reserves: 68.72313602437494\n",
      "R2: 0.9996233978805127\n"
     ]
    }
   ],
   "source": [
    "print('Region_1')\n",
    "print(\"RMSE:\", rmse_1)\n",
    "print(\"Average volume of predicted reserves:\", answers_1)\n",
    "print(\"R2:\", r2_1)"
   ]
  },
  {
   "cell_type": "code",
   "execution_count": 30,
   "metadata": {
    "scrolled": false
   },
   "outputs": [
    {
     "name": "stdout",
     "output_type": "stream",
     "text": [
      "Region_2\n",
      "RMSE: 40.02970873393434\n",
      "Average volume of predicted reserves: 94.88423280885489\n",
      "R2: 0.20524758386040443\n"
     ]
    }
   ],
   "source": [
    "print('Region_2')\n",
    "print(\"RMSE:\", rmse_2)\n",
    "print(\"Average volume of predicted reserves:\", answers_2)\n",
    "print(\"R2:\", r2_2)"
   ]
  },
  {
   "cell_type": "markdown",
   "metadata": {},
   "source": [
    "# Profit Calculations"
   ]
  },
  {
   "cell_type": "markdown",
   "metadata": {},
   "source": [
    "We must adhere to the following conditions:\n",
    "\n",
    "When exploring the region, a study of 500 points is carried with picking the best 200 points for the profit calculation.\n",
    "\n",
    "The budget for development of 200 oil wells is 100 USD million.\n",
    "\n",
    "One barrel of raw materials brings 4.5 USD of revenue The revenue from one unit of product is 4,500 dollars (volume of reserves is in thousand barrels).\n",
    "\n",
    "After the risk evaluation, keep only the regions with the risk of losses lower than 2.5%. From the ones that fit the criteria, the region with the highest average profit should be selected."
   ]
  },
  {
   "cell_type": "code",
   "execution_count": 31,
   "metadata": {},
   "outputs": [
    {
     "name": "stdout",
     "output_type": "stream",
     "text": [
      "Budget per well: 500000.0 USD\n",
      "Revenue per unit of product: 4500 USD\n",
      "Volume of reserves sufficient for developing a new well without losses: 111.11111111111111 thousand barrels\n"
     ]
    }
   ],
   "source": [
    "budget = 100_000_000\n",
    "all_wells = 500\n",
    "wells = 200\n",
    "risk = 2.5 # Represented as a %\n",
    "\n",
    "budget_per_well = budget / wells\n",
    "print(\"Budget per well:\", budget_per_well, \"USD\")\n",
    "\n",
    "revenue_per_unit = 4_500\n",
    "print(\"Revenue per unit of product:\", revenue_per_unit, \"USD\")\n",
    "\n",
    "reserves_for_profit = budget_per_well / revenue_per_unit\n",
    "print(\"Volume of reserves sufficient for developing a new well without losses:\", reserves_for_profit, \"thousand barrels\")"
   ]
  },
  {
   "cell_type": "code",
   "execution_count": 32,
   "metadata": {},
   "outputs": [
    {
     "name": "stdout",
     "output_type": "stream",
     "text": [
      "Profit for Region_0: $ 33208260.43139851\n",
      "Profit for Region_1: $ 24150866.966815114\n",
      "Profit for Region_2: $ 27103499.635998324\n"
     ]
    }
   ],
   "source": [
    "def profit(target, predictions):\n",
    "    target = pd.Series(target).reset_index(drop=True)\n",
    "    predictions = pd.Series(predictions)\n",
    "    pred_sorted = predictions.sort_values(ascending=False)\n",
    "    selected = target[pred_sorted.index][:wells]\n",
    "    return (selected.sum()* (revenue_per_unit)) - budget\n",
    "\n",
    "print('Profit for Region_0:','$',profit(target_valid_0, predicted_valid_0))\n",
    "print('Profit for Region_1:','$',profit(target_valid_1, predicted_valid_1))\n",
    "print('Profit for Region_2:','$',profit(target_valid_2, predicted_valid_2))"
   ]
  },
  {
   "cell_type": "code",
   "execution_count": 33,
   "metadata": {},
   "outputs": [],
   "source": [
    "def bootstrap(target, predictions):\n",
    "    target = pd.Series(target).reset_index(drop=True)\n",
    "    state = np.random.RandomState(12345)\n",
    "    values = []\n",
    "    for i in range(1000):\n",
    "        target_subsample = target.sample(n=all_wells, replace=True,random_state=state)\n",
    "        predictions_subsample = predictions[target_subsample.index]\n",
    "        values.append(profit(target_subsample, predictions_subsample))\n",
    "        \n",
    "    values = pd.Series(values)\n",
    "        \n",
    "    print('Wells that make a profit:',values.gt(0).sum())\n",
    "    print('Proportion of wells that make a profit:', values.gt(0).sum()/len(values))\n",
    "    \n",
    "\n",
    "    return values\n",
    "        \n"
   ]
  },
  {
   "cell_type": "code",
   "execution_count": 34,
   "metadata": {},
   "outputs": [
    {
     "name": "stdout",
     "output_type": "stream",
     "text": [
      "Region_0\n",
      "Wells that make a profit: 931\n",
      "Proportion of wells that make a profit: 0.931\n",
      "Average Profit of Region_0: 3961649.84802371\n"
     ]
    }
   ],
   "source": [
    "print('Region_0')\n",
    "profit_bs_0 = bootstrap(target_valid_0,predicted_valid_0)\n",
    "print('Average Profit of Region_0:', profit_bs_0.mean())"
   ]
  },
  {
   "cell_type": "code",
   "execution_count": 35,
   "metadata": {},
   "outputs": [
    {
     "name": "stdout",
     "output_type": "stream",
     "text": [
      "Region_1\n",
      "Wells that make a profit: 985\n",
      "Proportion of wells that make a profit: 0.985\n",
      "Average Profit of Region_1: 4560451.057866613\n"
     ]
    }
   ],
   "source": [
    "print('Region_1')\n",
    "profit_bs_1 = bootstrap(target_valid_1,predicted_valid_1)\n",
    "print('Average Profit of Region_1:', profit_bs_1.mean())"
   ]
  },
  {
   "cell_type": "code",
   "execution_count": 36,
   "metadata": {},
   "outputs": [
    {
     "name": "stdout",
     "output_type": "stream",
     "text": [
      "Region_2\n",
      "Wells that make a profit: 924\n",
      "Proportion of wells that make a profit: 0.924\n",
      "Average Profit of Region_2: 4044038.665683569\n"
     ]
    }
   ],
   "source": [
    "print('Region_2')\n",
    "profit_bs_2 = bootstrap(target_valid_2,predicted_valid_2)\n",
    "print('Average Profit of Region_2:', profit_bs_2.mean())"
   ]
  },
  {
   "cell_type": "code",
   "execution_count": 37,
   "metadata": {},
   "outputs": [],
   "source": [
    "def conf_interval(regions):\n",
    "    confidence_interval = st.t.interval(.95,len(regions)-1,regions.mean(),regions.sem())\n",
    "    risk_evaluation = (regions < .025).sum() / len(regions)\n",
    "    print('95% Confidence Interval is:', confidence_interval)\n",
    "    print('Risk of Losses:', risk_evaluation*100,'%')\n",
    "    return \n"
   ]
  },
  {
   "cell_type": "code",
   "execution_count": 38,
   "metadata": {},
   "outputs": [
    {
     "name": "stdout",
     "output_type": "stream",
     "text": [
      "Region_0\n",
      "95% Confidence Interval is: (3796203.151479724, 4127096.544567696)\n",
      "Risk of Losses: 6.9 %\n"
     ]
    }
   ],
   "source": [
    "print('Region_0')\n",
    "conf_interval(profit_bs_0)"
   ]
  },
  {
   "cell_type": "code",
   "execution_count": 39,
   "metadata": {
    "scrolled": false
   },
   "outputs": [
    {
     "name": "stdout",
     "output_type": "stream",
     "text": [
      "Region_1\n",
      "95% Confidence Interval is: (4431472.486639011, 4689429.629094216)\n",
      "Risk of Losses: 1.5 %\n"
     ]
    }
   ],
   "source": [
    "print('Region_1')\n",
    "conf_interval(profit_bs_1)"
   ]
  },
  {
   "cell_type": "code",
   "execution_count": 40,
   "metadata": {},
   "outputs": [
    {
     "name": "stdout",
     "output_type": "stream",
     "text": [
      "Region_2\n",
      "95% Confidence Interval is: (3874457.9747128054, 4213619.356654333)\n",
      "Risk of Losses: 7.6 %\n"
     ]
    }
   ],
   "source": [
    "print('Region_2')\n",
    "conf_interval(profit_bs_2)"
   ]
  },
  {
   "cell_type": "markdown",
   "metadata": {},
   "source": [
    "# Conclusion\n",
    "\n",
    "All regions in the model showcase high levels of profit. Although, based on our conditions, validation testing, and calculations, it loooks like Region_1 has the highest profit and has a risk of loss less than 2.5%. \n",
    "\n",
    "#### Region_1 dataset is recommended "
   ]
  }
 ],
 "metadata": {
  "kernelspec": {
   "display_name": "Python 3 (ipykernel)",
   "language": "python",
   "name": "python3"
  },
  "language_info": {
   "codemirror_mode": {
    "name": "ipython",
    "version": 3
   },
   "file_extension": ".py",
   "mimetype": "text/x-python",
   "name": "python",
   "nbconvert_exporter": "python",
   "pygments_lexer": "ipython3",
   "version": "3.9.12"
  },
  "toc": {
   "base_numbering": 1,
   "nav_menu": {},
   "number_sections": true,
   "sideBar": true,
   "skip_h1_title": true,
   "title_cell": "Table of Contents",
   "title_sidebar": "Contents",
   "toc_cell": false,
   "toc_position": {},
   "toc_section_display": true,
   "toc_window_display": false
  }
 },
 "nbformat": 4,
 "nbformat_minor": 2
}
